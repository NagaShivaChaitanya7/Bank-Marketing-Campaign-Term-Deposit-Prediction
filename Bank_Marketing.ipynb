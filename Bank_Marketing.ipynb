{
  "nbformat": 4,
  "nbformat_minor": 0,
  "metadata": {
    "colab": {
      "provenance": [],
      "authorship_tag": "ABX9TyPMwF6AeduWwGvMaH8CcHkS",
      "include_colab_link": true
    },
    "kernelspec": {
      "name": "python3",
      "display_name": "Python 3"
    },
    "language_info": {
      "name": "python"
    }
  },
  "cells": [
    {
      "cell_type": "markdown",
      "metadata": {
        "id": "view-in-github",
        "colab_type": "text"
      },
      "source": [
        "<a href=\"https://colab.research.google.com/github/NagaShivaChaitanya7/Bank-Marketing-Campaign-Term-Deposit-Prediction/blob/main/Bank_Marketing.ipynb\" target=\"_parent\"><img src=\"https://colab.research.google.com/assets/colab-badge.svg\" alt=\"Open In Colab\"/></a>"
      ]
    },
    {
      "cell_type": "code",
      "execution_count": 2,
      "metadata": {
        "colab": {
          "base_uri": "https://localhost:8080/"
        },
        "id": "rvLlL_yGgGzZ",
        "outputId": "f666e3cf-856f-4658-ccdf-2e732e2e49cb"
      },
      "outputs": [
        {
          "output_type": "stream",
          "name": "stdout",
          "text": [
            "=== Model: LogisticRegression ===\n",
            "ROC-AUC: 0.8901544850015971\n",
            "Classification report:\n",
            "               precision    recall  f1-score   support\n",
            "\n",
            "           0     0.9626    0.8460    0.9005      1766\n",
            "           1     0.3929    0.7521    0.5161       234\n",
            "\n",
            "    accuracy                         0.8350      2000\n",
            "   macro avg     0.6777    0.7991    0.7083      2000\n",
            "weighted avg     0.8960    0.8350    0.8556      2000\n",
            "\n",
            "Confusion matrix:\n",
            " [[1494  272]\n",
            " [  58  176]]\n",
            "=== Model: RandomForest ===\n",
            "ROC-AUC: 0.9100604001510002\n",
            "Classification report:\n",
            "               precision    recall  f1-score   support\n",
            "\n",
            "           0     0.9113    0.9836    0.9461      1766\n",
            "           1     0.6915    0.2778    0.3963       234\n",
            "\n",
            "    accuracy                         0.9010      2000\n",
            "   macro avg     0.8014    0.6307    0.6712      2000\n",
            "weighted avg     0.8856    0.9010    0.8818      2000\n",
            "\n",
            "Confusion matrix:\n",
            " [[1737   29]\n",
            " [ 169   65]]\n"
          ]
        },
        {
          "output_type": "stream",
          "name": "stderr",
          "text": [
            "/usr/local/lib/python3.12/dist-packages/xgboost/training.py:183: UserWarning: [06:32:03] WARNING: /workspace/src/learner.cc:738: \n",
            "Parameters: { \"use_label_encoder\" } are not used.\n",
            "\n",
            "  bst.update(dtrain, iteration=i, fobj=obj)\n"
          ]
        },
        {
          "output_type": "stream",
          "name": "stdout",
          "text": [
            "=== Model: XGBoost ===\n",
            "ROC-AUC: 0.9122564392949444\n",
            "Classification report:\n",
            "               precision    recall  f1-score   support\n",
            "\n",
            "           0     0.9296    0.9649    0.9469      1766\n",
            "           1     0.6287    0.4487    0.5237       234\n",
            "\n",
            "    accuracy                         0.9045      2000\n",
            "   macro avg     0.7792    0.7068    0.7353      2000\n",
            "weighted avg     0.8944    0.9045    0.8974      2000\n",
            "\n",
            "Confusion matrix:\n",
            " [[1704   62]\n",
            " [ 129  105]]\n",
            "\n",
            "Best by AUC: ('XGBoost', np.float64(0.9122564392949444))\n"
          ]
        }
      ],
      "source": [
        "\"\"\"\n",
        "Bank Marketing — Professional Pipeline\n",
        "Generated: 2025-09-05 06:27:04\n",
        "\n",
        "This script reproduces the preprocessing, modeling, and evaluation pipeline used in the professional report.\n",
        "It trains multiple models and saves results to console.\n",
        "Run: python bank_marketing_professional_pipeline.py\n",
        "Dependencies: pandas, numpy, scikit-learn, matplotlib, (optional) xgboost\n",
        "Place 'bank-full (1).csv' in the same directory as this script before running.\n",
        "\"\"\"\n",
        "\n",
        "import os\n",
        "import numpy as np, pandas as pd\n",
        "from sklearn.model_selection import train_test_split\n",
        "from sklearn.preprocessing import OneHotEncoder, StandardScaler\n",
        "from sklearn.compose import ColumnTransformer\n",
        "from sklearn.pipeline import Pipeline\n",
        "from sklearn.linear_model import LogisticRegression\n",
        "from sklearn.ensemble import RandomForestClassifier\n",
        "from sklearn.metrics import classification_report, roc_auc_score, confusion_matrix\n",
        "try:\n",
        "    from xgboost import XGBClassifier\n",
        "    xgb_available = True\n",
        "except Exception:\n",
        "    xgb_available = False\n",
        "\n",
        "def load_data(path='bank-full (1).csv', sample_n=10000):\n",
        "    if not os.path.exists(path):\n",
        "        raise FileNotFoundError(f\"Dataset not found at {path}. Place the CSV in the same folder.\")\n",
        "    df = pd.read_csv(path, sep=';')\n",
        "    df.columns = [c.strip().lower().replace(' ', '_') for c in df.columns]\n",
        "    if 'y' not in df.columns:\n",
        "        raise ValueError(\"Target column 'y' not found.\")\n",
        "    df['y'] = df['y'].map({'yes':1,'no':0}).astype(int)\n",
        "    if len(df) > sample_n:\n",
        "        df_sample, _ = train_test_split(df, train_size=sample_n, stratify=df['y'], random_state=42)\n",
        "    else:\n",
        "        df_sample = df\n",
        "    return df_sample\n",
        "\n",
        "def build_preprocessor(X):\n",
        "    numeric_cols = X.select_dtypes(include=[np.number]).columns.tolist()\n",
        "    categorical_cols = [c for c in X.columns if c not in numeric_cols]\n",
        "    pre = ColumnTransformer([('cat', OneHotEncoder(handle_unknown='ignore'), categorical_cols),\n",
        "                             ('num', StandardScaler(), numeric_cols)])\n",
        "    return pre, numeric_cols, categorical_cols\n",
        "\n",
        "def main():\n",
        "    df = load_data()\n",
        "    X = df.drop(columns=['y']); y = df['y'].astype(int)\n",
        "    pre, num_cols, cat_cols = build_preprocessor(X)\n",
        "    # Models\n",
        "    models = {\n",
        "        'LogisticRegression': LogisticRegression(max_iter=500, class_weight='balanced', solver='liblinear'),\n",
        "        'RandomForest': RandomForestClassifier(n_estimators=200, class_weight='balanced', random_state=42)\n",
        "    }\n",
        "    if xgb_available:\n",
        "        models['XGBoost'] = XGBClassifier(n_estimators=200, max_depth=5, learning_rate=0.05, use_label_encoder=False, eval_metric='logloss', random_state=42)\n",
        "\n",
        "    Xtr, Xte, ytr, yte = train_test_split(X, y, test_size=0.2, stratify=y, random_state=42)\n",
        "    results = []\n",
        "    for name, clf in models.items():\n",
        "        pipe = Pipeline([('pre', pre), ('clf', clf)])\n",
        "        pipe.fit(Xtr, ytr)\n",
        "        ypred = pipe.predict(Xte)\n",
        "        yproba = pipe.predict_proba(Xte)[:,1] if hasattr(pipe, 'predict_proba') else pipe.decision_function(Xte)\n",
        "        auc = roc_auc_score(yte, yproba)\n",
        "        print(f'=== Model: {name} ===')\n",
        "        print('ROC-AUC:', auc)\n",
        "        print('Classification report:\\n', classification_report(yte, ypred, digits=4))\n",
        "        print('Confusion matrix:\\n', confusion_matrix(yte, ypred))\n",
        "        results.append((name, auc))\n",
        "    print('\\nBest by AUC:', sorted(results, key=lambda x: x[1], reverse=True)[0])\n",
        "\n",
        "if __name__ == '__main__':\n",
        "    main()"
      ]
    }
  ]
}